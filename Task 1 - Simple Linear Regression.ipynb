{
 "cells": [
  {
   "cell_type": "markdown",
   "metadata": {},
   "source": [
    "# <font color='green'>Task 1 - Simple Linear Regression</font>  \n"
   ]
  },
  {
   "cell_type": "markdown",
   "metadata": {},
   "source": [
    "## Problem Statement: -\n",
    "### Predict the percentage of an student based on the no. of study hours. What will be predicted score if a student studies for 9.25 hrs/ day?"
   ]
  },
  {
   "cell_type": "markdown",
   "metadata": {},
   "source": [
    "## Author: - Akalbir Singh Chadha"
   ]
  },
  {
   "cell_type": "markdown",
   "metadata": {},
   "source": [
    "### Importing Dependencies/Packages"
   ]
  },
  {
   "cell_type": "code",
   "execution_count": 11,
   "metadata": {},
   "outputs": [],
   "source": [
    "#importing dependencies\n",
    "import numpy as np\n",
    "import pandas as pd\n",
    "import matplotlib.pyplot as plt"
   ]
  },
  {
   "cell_type": "markdown",
   "metadata": {},
   "source": [
    "### Importing The Dataset"
   ]
  },
  {
   "cell_type": "code",
   "execution_count": 12,
   "metadata": {},
   "outputs": [
    {
     "name": "stdout",
     "output_type": "stream",
     "text": [
      "--------Dataset Imported Sucessfully!---------\n"
     ]
    },
    {
     "data": {
      "text/html": [
       "<div>\n",
       "<style scoped>\n",
       "    .dataframe tbody tr th:only-of-type {\n",
       "        vertical-align: middle;\n",
       "    }\n",
       "\n",
       "    .dataframe tbody tr th {\n",
       "        vertical-align: top;\n",
       "    }\n",
       "\n",
       "    .dataframe thead th {\n",
       "        text-align: right;\n",
       "    }\n",
       "</style>\n",
       "<table border=\"1\" class=\"dataframe\">\n",
       "  <thead>\n",
       "    <tr style=\"text-align: right;\">\n",
       "      <th></th>\n",
       "      <th>Hours</th>\n",
       "      <th>Scores</th>\n",
       "    </tr>\n",
       "  </thead>\n",
       "  <tbody>\n",
       "    <tr>\n",
       "      <th>0</th>\n",
       "      <td>2.5</td>\n",
       "      <td>21</td>\n",
       "    </tr>\n",
       "    <tr>\n",
       "      <th>1</th>\n",
       "      <td>5.1</td>\n",
       "      <td>47</td>\n",
       "    </tr>\n",
       "    <tr>\n",
       "      <th>2</th>\n",
       "      <td>3.2</td>\n",
       "      <td>27</td>\n",
       "    </tr>\n",
       "    <tr>\n",
       "      <th>3</th>\n",
       "      <td>8.5</td>\n",
       "      <td>75</td>\n",
       "    </tr>\n",
       "    <tr>\n",
       "      <th>4</th>\n",
       "      <td>3.5</td>\n",
       "      <td>30</td>\n",
       "    </tr>\n",
       "  </tbody>\n",
       "</table>\n",
       "</div>"
      ],
      "text/plain": [
       "   Hours  Scores\n",
       "0    2.5      21\n",
       "1    5.1      47\n",
       "2    3.2      27\n",
       "3    8.5      75\n",
       "4    3.5      30"
      ]
     },
     "execution_count": 12,
     "metadata": {},
     "output_type": "execute_result"
    }
   ],
   "source": [
    "#Importing dataset\n",
    "df = pd.read_csv('task1_data.csv')\n",
    "print('--------Dataset Imported Sucessfully!---------')\n",
    "df.head()\n"
   ]
  },
  {
   "cell_type": "markdown",
   "metadata": {},
   "source": [
    "### Visualizing The Data \n",
    "\n",
    "The data is visualised to get a better understanding about the relation between hours and percentage"
   ]
  },
  {
   "cell_type": "code",
   "execution_count": 13,
   "metadata": {},
   "outputs": [
    {
     "name": "stdout",
     "output_type": "stream",
     "text": [
      "-------Data Visualized Sucessfully!---------\n"
     ]
    },
    {
     "data": {
      "image/png": "[encoded data removed]",
      "text/plain": [
       "<Figure size 432x288 with 1 Axes>"
      ]
     },
     "metadata": {
      "needs_background": "light"
     },
     "output_type": "display_data"
    }
   ],
   "source": [
    "#Plotting data for Visualization \n",
    "plt.scatter(df.Hours,df.Scores, color = 'blue')\n",
    "plt.title('Hours V/S Percentage')\n",
    "plt.xlabel('Hours of Study')\n",
    "plt.ylabel('Score of Students')\n",
    "print('-------Data Visualized Sucessfully!---------')\n",
    "plt.show()\n"
   ]
  },
  {
   "cell_type": "markdown",
   "metadata": {},
   "source": [
    "### Dividing The Data Into \"attributes\" (inputs) And \"labels\" (outputs)."
   ]
  },
  {
   "cell_type": "code",
   "execution_count": 14,
   "metadata": {},
   "outputs": [],
   "source": [
    "#Changing data  as attributes (input) and labels (output)\n",
    "x = df.iloc[:,:-1 ].values #independent variable\n",
    "y = df.iloc[:, 1].values  # dependent variable\n"
   ]
  },
  {
   "cell_type": "markdown",
   "metadata": {},
   "source": [
    "### Splitting The Data For Training And Testing."
   ]
  },
  {
   "cell_type": "code",
   "execution_count": 20,
   "metadata": {},
   "outputs": [
    {
     "name": "stdout",
     "output_type": "stream",
     "text": [
      "------------------------------Dataset Divided Sucessfully---------------------------------\n",
      "\n",
      "\n",
      "Training Dataset\n",
      "Hours = [[3.8 1.9 7.8 6.9 1.1 5.1 7.7 3.3 8.3 9.2 6.1 3.5 2.7 5.5 2.7 8.5 2.5 4.8\n",
      "  8.9 4.5]] \n",
      "Percentage = [35 24 86 76 17 47 85 42 81 88 67 30 25 60 30 75 21 54 95 41]\n",
      "\n",
      "Testing Dataset\n",
      "Hours = [[1.5 3.2 7.4 2.5 5.9]] \n",
      "Percentage = [20 27 69 30 62]\n"
     ]
    }
   ],
   "source": [
    "from sklearn.model_selection import train_test_split\n",
    "#Splitting data for training and testing\n",
    "x_train, x_test,y_train, y_test = train_test_split(x,y,test_size = 0.2, random_state=0)\n",
    "print('------------------------------Dataset Divided Sucessfully---------------------------------')\n",
    "print()\n",
    "print()\n",
    "print('Training Dataset')\n",
    "print('Hours = {} \\nPercentage = {}'.format(x_train.reshape(1,-1),y_train))\n",
    "print()\n",
    "print('Testing Dataset')\n",
    "print('Hours = {} \\nPercentage = {}'.format(x_test.reshape(1,-1),y_test))"
   ]
  },
  {
   "cell_type": "markdown",
   "metadata": {},
   "source": [
    "### Training The Data For The Algorithm.\n",
    "\n",
    "The algorithm that will be used for this task is the Linear Regression ML model. The training data set will be used to train the model and the test dataset will be fed to the model for predictions."
   ]
  },
  {
   "cell_type": "code",
   "execution_count": 21,
   "metadata": {},
   "outputs": [
    {
     "name": "stdout",
     "output_type": "stream",
     "text": [
      "----------Training Complete-----------\n",
      "Coefficients : [9.91065648]\n",
      "Intercepts: 2.018160041434683\n"
     ]
    }
   ],
   "source": [
    "from sklearn import linear_model\n",
    "#Training the data for Linear Regression\n",
    "regr = linear_model.LinearRegression()\n",
    "regr.fit(x_train,y_train)\n",
    "print('----------Training Complete-----------')\n",
    "print('Coefficients :',regr.coef_)\n",
    "print('Intercepts:',regr.intercept_)\n"
   ]
  },
  {
   "cell_type": "markdown",
   "metadata": {},
   "source": [
    "### Plotting the regression line.\n",
    "\n",
    "We will now be plotting the Regression line using the straight line equation of Y = MX + C\n",
    "<br> Where,\n",
    "<br> Y = Required line \n",
    "<br> M = regr.coef_ = 9.91065648\n",
    "<br> X = Independent Variable (hours)\n",
    "<br> C = regr.intercept_ = 2.018160041434683\n"
   ]
  },
  {
   "cell_type": "code",
   "execution_count": 22,
   "metadata": {},
   "outputs": [],
   "source": [
    "#Plotting the regression line\n",
    "line = regr.coef_*x + regr.intercept_"
   ]
  },
  {
   "cell_type": "markdown",
   "metadata": {},
   "source": [
    "### Visualizing The  Regression Line Generated For The Model.\n",
    "\n",
    "This visualization will give us a better understannding of the model. The x and y variables are scattered plot along the regression line."
   ]
  },
  {
   "cell_type": "code",
   "execution_count": 36,
   "metadata": {},
   "outputs": [
    {
     "data": {
      "image/png": "[encoded data removed]",
      "text/plain": [
       "<Figure size 432x288 with 1 Axes>"
      ]
     },
     "metadata": {
      "needs_background": "light"
     },
     "output_type": "display_data"
    }
   ],
   "source": [
    "#Plotting for the test data\n",
    "plt.scatter(x,y)\n",
    "plt.plot(x,line);\n",
    "plt.xlabel('Hours of Study')\n",
    "plt.ylabel('Score of Students')\n",
    "plt.show()"
   ]
  },
  {
   "cell_type": "markdown",
   "metadata": {},
   "source": [
    "### Prediction Of The Scores.\n",
    "\n",
    "The trained model is used for prediction on the test data."
   ]
  },
  {
   "cell_type": "code",
   "execution_count": 34,
   "metadata": {},
   "outputs": [
    {
     "name": "stdout",
     "output_type": "stream",
     "text": [
      "-------------------Prediction Completed--------------------\n"
     ]
    }
   ],
   "source": [
    "#Prediction of the scores\n",
    "y_pred = regr.predict(x_test)\n",
    "print('-------------------Prediction Completed--------------------')"
   ]
  },
  {
   "cell_type": "markdown",
   "metadata": {},
   "source": [
    "### Comparing The Actual And Predicted Values\n",
    "The actual/ expected values and predited values are compared and their difference is also calculated."
   ]
  },
  {
   "cell_type": "code",
   "execution_count": 28,
   "metadata": {},
   "outputs": [
    {
     "data": {
      "text/html": [
       "<div>\n",
       "<style scoped>\n",
       "    .dataframe tbody tr th:only-of-type {\n",
       "        vertical-align: middle;\n",
       "    }\n",
       "\n",
       "    .dataframe tbody tr th {\n",
       "        vertical-align: top;\n",
       "    }\n",
       "\n",
       "    .dataframe thead th {\n",
       "        text-align: right;\n",
       "    }\n",
       "</style>\n",
       "<table border=\"1\" class=\"dataframe\">\n",
       "  <thead>\n",
       "    <tr style=\"text-align: right;\">\n",
       "      <th></th>\n",
       "      <th>Actual</th>\n",
       "      <th>Predicted</th>\n",
       "      <th>Difference</th>\n",
       "    </tr>\n",
       "  </thead>\n",
       "  <tbody>\n",
       "    <tr>\n",
       "      <th>0</th>\n",
       "      <td>20.0</td>\n",
       "      <td>16.884145</td>\n",
       "      <td>3.115855</td>\n",
       "    </tr>\n",
       "    <tr>\n",
       "      <th>1</th>\n",
       "      <td>27.0</td>\n",
       "      <td>33.732261</td>\n",
       "      <td>-6.732261</td>\n",
       "    </tr>\n",
       "    <tr>\n",
       "      <th>2</th>\n",
       "      <td>69.0</td>\n",
       "      <td>75.357018</td>\n",
       "      <td>-6.357018</td>\n",
       "    </tr>\n",
       "    <tr>\n",
       "      <th>3</th>\n",
       "      <td>30.0</td>\n",
       "      <td>26.794801</td>\n",
       "      <td>3.205199</td>\n",
       "    </tr>\n",
       "    <tr>\n",
       "      <th>4</th>\n",
       "      <td>62.0</td>\n",
       "      <td>60.491033</td>\n",
       "      <td>1.508967</td>\n",
       "    </tr>\n",
       "  </tbody>\n",
       "</table>\n",
       "</div>"
      ],
      "text/plain": [
       "   Actual  Predicted  Difference\n",
       "0    20.0  16.884145    3.115855\n",
       "1    27.0  33.732261   -6.732261\n",
       "2    69.0  75.357018   -6.357018\n",
       "3    30.0  26.794801    3.205199\n",
       "4    62.0  60.491033    1.508967"
      ]
     },
     "execution_count": 28,
     "metadata": {},
     "output_type": "execute_result"
    }
   ],
   "source": [
    "# Comparing Predicted and Actual Values\n",
    "df_pred = pd.DataFrame(( y_test,  y_pred), index = [\"Actual\",\"Predicted\"]).T  \n",
    "df_pred[\"Difference\"] = df_pred[\"Actual\"] - df_pred[\"Predicted\"]\n",
    "df_pred"
   ]
  },
  {
   "cell_type": "markdown",
   "metadata": {},
   "source": [
    "### Trying To Predict The Score If a Student Studies For 9.25 Hours\n",
    "\n",
    "The score/percentage obtained by a student if he/she studies for 9.25 hours is 93.69173248737538"
   ]
  },
  {
   "cell_type": "code",
   "execution_count": 35,
   "metadata": {},
   "outputs": [
    {
     "name": "stdout",
     "output_type": "stream",
     "text": [
      "--------------------The Score Predicted Sucessfully------------------- \n",
      "The score for 9.25 hours is :93.69173248737538\n"
     ]
    }
   ],
   "source": [
    "#Predicting the score for 9.25 hours\n",
    "print(\"--------------------The Score Predicted Sucessfully------------------- \")\n",
    "hour = np.array([[9.25]])\n",
    "h_pred = regr.predict(hour)\n",
    "print('The score for {} hours is :{}'.format(hour[0][0],h_pred[0]))\n"
   ]
  },
  {
   "cell_type": "markdown",
   "metadata": {},
   "source": [
    "### Evaluating The Data\n",
    "\n",
    "The data evalaution is done to check the accuracy of the model.\n",
    "<br> The methods used for evaluating this model are: -\n",
    "<br>  - Mean Absolute Error = 4.183859899002975\n",
    "<br>  - R2 Score = 0.9546785947197246 = 95.46%\n",
    "<br>  - Residual Sum of Squares = 107.99384653608699"
   ]
  },
  {
   "cell_type": "code",
   "execution_count": 33,
   "metadata": {},
   "outputs": [
    {
     "name": "stdout",
     "output_type": "stream",
     "text": [
      "--------------------Model Evaluated Sucessfully!------------------\n",
      "Mean Absolute Error: 4.183859899002975\n",
      "R2 score of the model is = 0.9546785947197246\n",
      "RSS of the model is = 107.99384653608699\n"
     ]
    }
   ],
   "source": [
    "#Evaluating the model\n",
    "print('--------------------Model Evaluated Sucessfully!------------------')\n",
    "# Mean Absolute Error \n",
    "from sklearn import metrics  \n",
    "print('Mean Absolute Error:', \n",
    "      metrics.mean_absolute_error(y_test, y_pred)) \n",
    "# R2 Score\n",
    "from sklearn.metrics import r2_score\n",
    "print('R2 score of the model is = {}'.format( r2_score(y_pred,y_test)))\n",
    "\n",
    "# Residual Sum of Squares\n",
    "rss = np.sum(np.square(y_pred - y_test))\n",
    "print(\"RSS of the model is = {}\".format(rss))"
   ]
  },
  {
   "cell_type": "code",
   "execution_count": null,
   "metadata": {},
   "outputs": [],
   "source": []
  }
 ],
 "metadata": {
  "kernelspec": {
   "display_name": "Python 3",
   "language": "python",
   "name": "python3"
  },
  "language_info": {
   "codemirror_mode": {
    "name": "ipython",
    "version": 3
   },
   "file_extension": ".py",
   "mimetype": "text/x-python",
   "name": "python",
   "nbconvert_exporter": "python",
   "pygments_lexer": "ipython3",
   "version": "3.8.3"
  }
 },
 "nbformat": 4,
 "nbformat_minor": 4
}
